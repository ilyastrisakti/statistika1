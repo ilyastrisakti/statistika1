{
 "cells": [
  {
   "cell_type": "code",
   "execution_count": 1,
   "id": "06dba0a0",
   "metadata": {},
   "outputs": [
    {
     "name": "stdout",
     "output_type": "stream",
     "text": [
      "     Survived  Pclass                                               Name  \\\n",
      "0           0       3                             Mr. Owen Harris Braund   \n",
      "1           1       1  Mrs. John Bradley (Florence Briggs Thayer) Cum...   \n",
      "2           1       3                              Miss. Laina Heikkinen   \n",
      "3           1       1        Mrs. Jacques Heath (Lily May Peel) Futrelle   \n",
      "4           0       3                            Mr. William Henry Allen   \n",
      "..        ...     ...                                                ...   \n",
      "882         0       2                               Rev. Juozas Montvila   \n",
      "883         1       1                        Miss. Margaret Edith Graham   \n",
      "884         0       3                     Miss. Catherine Helen Johnston   \n",
      "885         1       1                               Mr. Karl Howell Behr   \n",
      "886         0       3                                 Mr. Patrick Dooley   \n",
      "\n",
      "        Sex   Age  Siblings/Spouses Aboard  Parents/Children Aboard     Fare  \n",
      "0      male  22.0                        1                        0   7.2500  \n",
      "1    female  38.0                        1                        0  71.2833  \n",
      "2    female  26.0                        0                        0   7.9250  \n",
      "3    female  35.0                        1                        0  53.1000  \n",
      "4      male  35.0                        0                        0   8.0500  \n",
      "..      ...   ...                      ...                      ...      ...  \n",
      "882    male  27.0                        0                        0  13.0000  \n",
      "883  female  19.0                        0                        0  30.0000  \n",
      "884  female   7.0                        1                        2  23.4500  \n",
      "885    male  26.0                        0                        0  30.0000  \n",
      "886    male  32.0                        0                        0   7.7500  \n",
      "\n",
      "[887 rows x 8 columns]\n"
     ]
    }
   ],
   "source": [
    "import pandas as pd\n",
    "#memanggil dan menampilkan dataset\n",
    "data_ilyas = pd.read_csv('titanic.csv')\n",
    "print(data_ilyas)"
   ]
  },
  {
   "cell_type": "code",
   "execution_count": 2,
   "id": "6bc4414e",
   "metadata": {},
   "outputs": [
    {
     "name": "stdout",
     "output_type": "stream",
     "text": [
      "      Age  Pclass  Survived\n",
      "0    22.0       3         0\n",
      "1    38.0       1         1\n",
      "2    26.0       3         1\n",
      "3    35.0       1         1\n",
      "4    35.0       3         0\n",
      "..    ...     ...       ...\n",
      "882  27.0       2         0\n",
      "883  19.0       1         1\n",
      "884   7.0       3         0\n",
      "885  26.0       1         1\n",
      "886  32.0       3         0\n",
      "\n",
      "[887 rows x 3 columns]\n"
     ]
    }
   ],
   "source": [
    "#mengambil data pada kolom tertentu\n",
    "data1 = data_ilyas.loc[:,['Age','Pclass','Survived']]\n",
    "print(data1)"
   ]
  },
  {
   "cell_type": "code",
   "execution_count": 3,
   "id": "f57d0e00",
   "metadata": {},
   "outputs": [
    {
     "data": {
      "text/plain": [
       "<AxesSubplot:title={'center':'Persebaran Data'}, xlabel='Age', ylabel='Pclass'>"
      ]
     },
     "execution_count": 3,
     "metadata": {},
     "output_type": "execute_result"
    },
    {
     "data": {
      "image/png": "[encoded data removed]",
      "text/plain": [
       "<Figure size 432x288 with 2 Axes>"
      ]
     },
     "metadata": {
      "needs_background": "light"
     },
     "output_type": "display_data"
    }
   ],
   "source": [
    "#memvisualisasikan data titanic\n",
    "data2 = data_ilyas[['Age', 'Pclass', 'Survived']]\n",
    "data2.plot(title='Persebaran Data', x='Age', y='Pclass', kind='scatter', c='Survived', colormap='Paired')"
   ]
  },
  {
   "cell_type": "code",
   "execution_count": 4,
   "id": "b557b582",
   "metadata": {},
   "outputs": [
    {
     "name": "stdout",
     "output_type": "stream",
     "text": [
      "Jumlah Penumpang:\n",
      " Pclass\n",
      "1    216\n",
      "2    184\n",
      "3    487\n",
      "Name: Name, dtype: int64\n"
     ]
    }
   ],
   "source": [
    "#memanipulasi data jumlah penumpang berdasarkan group Pclass\n",
    "data3 = data_ilyas[['Name', 'Sex', 'Age', 'Pclass', 'Fare']]\n",
    "penumpang=data3.groupby('Pclass')['Name'].nunique()\n",
    "print('Jumlah Penumpang:\\n', penumpang)"
   ]
  },
  {
   "cell_type": "code",
   "execution_count": 5,
   "id": "abb61d9e",
   "metadata": {},
   "outputs": [
    {
     "name": "stdout",
     "output_type": "stream",
     "text": [
      "Penumpang yang tidak survived:\n",
      " 3    368\n",
      "2     97\n",
      "1     80\n",
      "Name: Pclass, dtype: int64\n",
      "\n",
      "Penumpang yang survived:\n",
      " 1    136\n",
      "3    119\n",
      "2     87\n",
      "Name: Pclass, dtype: int64\n"
     ]
    }
   ],
   "source": [
    "#memfilter data penumpang yang selamat berdasarkan pclass\n",
    "data4 = data_ilyas[['Name', 'Sex', 'Age', 'Pclass', 'Fare']]\n",
    "notsurvivedpassanger=data4['Pclass'].loc[data_ilyas['Survived']==0]\n",
    "print('Penumpang yang tidak survived:\\n', notsurvivedpassanger.value_counts())\n",
    "survivedpassanger=data4['Pclass'].loc[data_ilyas['Survived']==1]\n",
    "print('\\nPenumpang yang survived:\\n', survivedpassanger.value_counts())"
   ]
  },
  {
   "cell_type": "code",
   "execution_count": null,
   "id": "1caf0b61",
   "metadata": {},
   "outputs": [],
   "source": [
    "#tugas"
   ]
  },
  {
   "cell_type": "code",
   "execution_count": 6,
   "id": "95c770fb",
   "metadata": {},
   "outputs": [
    {
     "name": "stdout",
     "output_type": "stream",
     "text": [
      "Jumlah Penumpang:\n",
      " Sex\n",
      "female    314\n",
      "male      573\n",
      "Name: Name, dtype: int64\n"
     ]
    }
   ],
   "source": [
    "#memanipulasi data jumlah penumpang berdasarkan group Sex\n",
    "data4 = data_ilyas[['Name', 'Sex', 'Age', 'Pclass', 'Fare']]\n",
    "penumpang=data4.groupby('Sex')['Name'].nunique()\n",
    "print('Jumlah Penumpang:\\n', penumpang)"
   ]
  },
  {
   "cell_type": "code",
   "execution_count": 7,
   "id": "38ac85fd",
   "metadata": {},
   "outputs": [
    {
     "name": "stdout",
     "output_type": "stream",
     "text": [
      "Penumpang yang tidak survived:\n",
      " male      464\n",
      "female     81\n",
      "Name: Sex, dtype: int64\n",
      "\n",
      "Penumpang yang survived:\n",
      " female    233\n",
      "male      109\n",
      "Name: Sex, dtype: int64\n"
     ]
    }
   ],
   "source": [
    "#memfilter data penumpang yang selamat berdasarkan Sex\n",
    "data5 = data_ilyas[['Name', 'Sex', 'Age', 'Pclass', 'Fare']]\n",
    "notsurvivedpassanger=data5['Sex'].loc[data_ilyas['Survived']==0]\n",
    "print('Penumpang yang tidak survived:\\n', notsurvivedpassanger.value_counts())\n",
    "survivedpassanger=data4['Sex'].loc[data_ilyas['Survived']==1]\n",
    "print('\\nPenumpang yang survived:\\n', survivedpassanger.value_counts())"
   ]
  },
  {
   "cell_type": "code",
   "execution_count": null,
   "id": "ac89c023",
   "metadata": {},
   "outputs": [],
   "source": []
  }
 ],
 "metadata": {
  "kernelspec": {
   "display_name": "Python 3 (ipykernel)",
   "language": "python",
   "name": "python3"
  },
  "language_info": {
   "codemirror_mode": {
    "name": "ipython",
    "version": 3
   },
   "file_extension": ".py",
   "mimetype": "text/x-python",
   "name": "python",
   "nbconvert_exporter": "python",
   "pygments_lexer": "ipython3",
   "version": "3.9.12"
  }
 },
 "nbformat": 4,
 "nbformat_minor": 5
}
